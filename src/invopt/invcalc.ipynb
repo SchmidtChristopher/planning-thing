{
 "cells": [
  {
   "cell_type": "code",
   "execution_count": 12,
   "metadata": {},
   "outputs": [],
   "source": [
    "import matplotlib.pyplot as plt\n",
    "import numpy as np\n",
    "from scipy.stats import poisson"
   ]
  },
  {
   "cell_type": "code",
   "execution_count": 29,
   "metadata": {},
   "outputs": [
    {
     "name": "stdout",
     "output_type": "stream",
     "text": [
      "25.0\n"
     ]
    }
   ],
   "source": [
    "def poisson_safety_stock(mu, tsl, service_type = 'CSL'):\n",
    "        \"\"\"Calculate the required\n",
    "\t\t\n",
    "        Parameters\n",
    "\t\t----------\n",
    "\t\tmu : float, required\n",
    "\t\t\tThe rate mu is the expected sales qty during the leadtime. Defined on (0,+inf)\n",
    "        tsl: float, required\n",
    "            Target service level, the function returns the ppf\n",
    "\t\tservice_type: (CSL, FR)\n",
    "            CSL, cycle service level\n",
    "\n",
    "        Returns\n",
    "        x : integer\n",
    "            x is the theoretical inventory level needed during lt to reach the tsl\n",
    "\t\t\n",
    "\t\t\"\"\"\n",
    "        if service_type = 'CSL':\n",
    "            return(poisson.ppf(tsl,mu))\n",
    "        else:\n",
    "            pass\n"
   ]
  }
 ],
 "metadata": {
  "kernelspec": {
   "display_name": "Python 3.9.5 ('.venv': venv)",
   "language": "python",
   "name": "python3"
  },
  "language_info": {
   "codemirror_mode": {
    "name": "ipython",
    "version": 3
   },
   "file_extension": ".py",
   "mimetype": "text/x-python",
   "name": "python",
   "nbconvert_exporter": "python",
   "pygments_lexer": "ipython3",
   "version": "3.9.5"
  },
  "orig_nbformat": 4,
  "vscode": {
   "interpreter": {
    "hash": "5d79cb93cde5644843c5e51821200077a0b00d7a4545da14eb5f091bd96d60fd"
   }
  }
 },
 "nbformat": 4,
 "nbformat_minor": 2
}
